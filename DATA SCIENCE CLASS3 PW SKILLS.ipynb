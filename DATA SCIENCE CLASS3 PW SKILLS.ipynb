{
 "cells": [
  {
   "cell_type": "code",
   "execution_count": 1,
   "id": "e4f11447-4c6b-4424-87ac-7cc1e0626290",
   "metadata": {},
   "outputs": [],
   "source": [
    "## OPERATORS"
   ]
  },
  {
   "cell_type": "code",
   "execution_count": 2,
   "id": "7bed1cea-96fb-483a-b83f-4a122f1b3249",
   "metadata": {},
   "outputs": [
    {
     "data": {
      "text/plain": [
       "3"
      ]
     },
     "execution_count": 2,
     "metadata": {},
     "output_type": "execute_result"
    }
   ],
   "source": [
    "1+2  ## arithmetic operators are used to perform mathematical operations like \"addition\",\"substraction\",\"division and \"*\"\n",
    "     ## addition operator"
   ]
  },
  {
   "cell_type": "code",
   "execution_count": 3,
   "id": "d0b87e3c-a4b6-4d37-994d-29d1ae1a0bfe",
   "metadata": {},
   "outputs": [
    {
     "data": {
      "text/plain": [
       "2"
      ]
     },
     "execution_count": 3,
     "metadata": {},
     "output_type": "execute_result"
    }
   ],
   "source": [
    "4-2 ## substraction operator"
   ]
  },
  {
   "cell_type": "code",
   "execution_count": 4,
   "id": "06ae5fbc-52fa-4b4e-a7a6-69f433a1170e",
   "metadata": {},
   "outputs": [
    {
     "data": {
      "text/plain": [
       "45"
      ]
     },
     "execution_count": 4,
     "metadata": {},
     "output_type": "execute_result"
    }
   ],
   "source": [
    "5*9  ## multiplication operator"
   ]
  },
  {
   "cell_type": "code",
   "execution_count": 5,
   "id": "b7ed50a4-8fbd-4939-ad58-7368bfa3f068",
   "metadata": {},
   "outputs": [
    {
     "data": {
      "text/plain": [
       "4.5"
      ]
     },
     "execution_count": 5,
     "metadata": {},
     "output_type": "execute_result"
    }
   ],
   "source": [
    "9/2  ## division operator"
   ]
  },
  {
   "cell_type": "code",
   "execution_count": 6,
   "id": "4684470e-ec23-4aee-9173-38c387c5ffca",
   "metadata": {},
   "outputs": [
    {
     "data": {
      "text/plain": [
       "1"
      ]
     },
     "execution_count": 6,
     "metadata": {},
     "output_type": "execute_result"
    }
   ],
   "source": [
    "1%4  ## modulus operator \n",
    "     ## 1 divid by 4 and we get remainder"
   ]
  },
  {
   "cell_type": "code",
   "execution_count": 7,
   "id": "9895f711-c074-43bd-811b-6b86f3d3e785",
   "metadata": {},
   "outputs": [
    {
     "data": {
      "text/plain": [
       "0"
      ]
     },
     "execution_count": 7,
     "metadata": {},
     "output_type": "execute_result"
    }
   ],
   "source": [
    "9%3"
   ]
  },
  {
   "cell_type": "code",
   "execution_count": 8,
   "id": "9d31a388-092b-4f44-bbe6-dfc535316f82",
   "metadata": {},
   "outputs": [
    {
     "data": {
      "text/plain": [
       "5"
      ]
     },
     "execution_count": 8,
     "metadata": {},
     "output_type": "execute_result"
    }
   ],
   "source": [
    "17//3 ## floor division"
   ]
  },
  {
   "cell_type": "code",
   "execution_count": 9,
   "id": "af1644ff-871a-4f29-a118-1461ebd509c5",
   "metadata": {},
   "outputs": [
    {
     "data": {
      "text/plain": [
       "27"
      ]
     },
     "execution_count": 9,
     "metadata": {},
     "output_type": "execute_result"
    }
   ],
   "source": [
    "3**3 ## power operator or exponent operator"
   ]
  },
  {
   "cell_type": "code",
   "execution_count": 12,
   "id": "8b692b02-ead9-40e3-98f4-a7543b1d8170",
   "metadata": {},
   "outputs": [
    {
     "data": {
      "text/plain": [
       "False"
      ]
     },
     "execution_count": 12,
     "metadata": {},
     "output_type": "execute_result"
    }
   ],
   "source": [
    "1>3 ## comparision operator\n",
    "    ## less than                 (<)\n",
    "    ## greater than              (>)\n",
    "    ## less than or equal to     (<=)\n",
    "    ## greater than or equal to  (>=)\n",
    "    ## equal to                  (=)\n",
    "    ## not equal to              (!=)"
   ]
  },
  {
   "cell_type": "code",
   "execution_count": 13,
   "id": "b23925b8-fedd-4fd7-9544-f472e7bf2388",
   "metadata": {},
   "outputs": [
    {
     "data": {
      "text/plain": [
       "False"
      ]
     },
     "execution_count": 13,
     "metadata": {},
     "output_type": "execute_result"
    }
   ],
   "source": [
    "100!=100"
   ]
  },
  {
   "cell_type": "code",
   "execution_count": 14,
   "id": "b9916b31-d7b9-43cc-a0cd-67783f9eff84",
   "metadata": {},
   "outputs": [
    {
     "data": {
      "text/plain": [
       "True"
      ]
     },
     "execution_count": 14,
     "metadata": {},
     "output_type": "execute_result"
    }
   ],
   "source": [
    "25>12"
   ]
  },
  {
   "cell_type": "code",
   "execution_count": 15,
   "id": "4ce468a6-9826-441e-a17e-10d9aedaceab",
   "metadata": {},
   "outputs": [
    {
     "data": {
      "text/plain": [
       "True"
      ]
     },
     "execution_count": 15,
     "metadata": {},
     "output_type": "execute_result"
    }
   ],
   "source": [
    "5==5 ## \"=\" means assigment operator \n",
    "     ## \"==\" means comparing the value"
   ]
  },
  {
   "cell_type": "code",
   "execution_count": 16,
   "id": "f4ab0a99-c4b9-485c-bef3-48df5adf8739",
   "metadata": {},
   "outputs": [
    {
     "data": {
      "text/plain": [
       "False"
      ]
     },
     "execution_count": 16,
     "metadata": {},
     "output_type": "execute_result"
    }
   ],
   "source": [
    "100==50"
   ]
  },
  {
   "cell_type": "code",
   "execution_count": 17,
   "id": "c6370331-4757-4405-abb4-6ea8a1087d30",
   "metadata": {},
   "outputs": [
    {
     "data": {
      "text/plain": [
       "True"
      ]
     },
     "execution_count": 17,
     "metadata": {},
     "output_type": "execute_result"
    }
   ],
   "source": [
    "True and True   ## 'and' means multiplication\n",
    "                ## True means 1 and False means 0\n",
    "                ## 1 & 1 = 1\n",
    "                ## 1 & 0 = 0\n",
    "                ## 0 & 1 = 0\n",
    "                ## 0 & 0 = 0"
   ]
  },
  {
   "cell_type": "code",
   "execution_count": 18,
   "id": "a253ac15-0480-459f-908f-129166d7d9f8",
   "metadata": {},
   "outputs": [
    {
     "data": {
      "text/plain": [
       "False"
      ]
     },
     "execution_count": 18,
     "metadata": {},
     "output_type": "execute_result"
    }
   ],
   "source": [
    "True and False"
   ]
  },
  {
   "cell_type": "code",
   "execution_count": 19,
   "id": "5d43d216-b899-4817-ad96-7e57244dd8ca",
   "metadata": {},
   "outputs": [
    {
     "data": {
      "text/plain": [
       "False"
      ]
     },
     "execution_count": 19,
     "metadata": {},
     "output_type": "execute_result"
    }
   ],
   "source": [
    "False and True"
   ]
  },
  {
   "cell_type": "code",
   "execution_count": 20,
   "id": "3954aaec-7d22-4c42-9787-726ccb602efd",
   "metadata": {},
   "outputs": [
    {
     "data": {
      "text/plain": [
       "False"
      ]
     },
     "execution_count": 20,
     "metadata": {},
     "output_type": "execute_result"
    }
   ],
   "source": [
    "False and False"
   ]
  },
  {
   "cell_type": "code",
   "execution_count": 22,
   "id": "87432c23-481b-4c0e-a674-967cfedc2acd",
   "metadata": {},
   "outputs": [
    {
     "data": {
      "text/plain": [
       "True"
      ]
     },
     "execution_count": 22,
     "metadata": {},
     "output_type": "execute_result"
    }
   ],
   "source": [
    "True or False ## 'or'if  any one true is true than we get result as true\n",
    "              ## 1 or 1 = 1\n",
    "              ## 1 or 0 = 1\n",
    "              ## 0 or 1 = 1\n",
    "              ## 0 or 0 = 0"
   ]
  },
  {
   "cell_type": "code",
   "execution_count": 23,
   "id": "8dcf6732-2259-4691-a70f-312295a7d0ad",
   "metadata": {},
   "outputs": [
    {
     "data": {
      "text/plain": [
       "True"
      ]
     },
     "execution_count": 23,
     "metadata": {},
     "output_type": "execute_result"
    }
   ],
   "source": [
    "True or True"
   ]
  },
  {
   "cell_type": "code",
   "execution_count": 24,
   "id": "47ec377c-9234-41e8-b812-1ae2827ffc96",
   "metadata": {},
   "outputs": [
    {
     "data": {
      "text/plain": [
       "False"
      ]
     },
     "execution_count": 24,
     "metadata": {},
     "output_type": "execute_result"
    }
   ],
   "source": [
    "False and True"
   ]
  },
  {
   "cell_type": "code",
   "execution_count": 25,
   "id": "098aad08-f4d7-4ecc-b907-91a1841df1a1",
   "metadata": {},
   "outputs": [
    {
     "data": {
      "text/plain": [
       "False"
      ]
     },
     "execution_count": 25,
     "metadata": {},
     "output_type": "execute_result"
    }
   ],
   "source": [
    "False and False"
   ]
  },
  {
   "cell_type": "code",
   "execution_count": 26,
   "id": "463f1f04-b5bc-4cd1-94e1-eb740427ce59",
   "metadata": {},
   "outputs": [
    {
     "data": {
      "text/plain": [
       "False"
      ]
     },
     "execution_count": 26,
     "metadata": {},
     "output_type": "execute_result"
    }
   ],
   "source": [
    "not True"
   ]
  },
  {
   "cell_type": "code",
   "execution_count": 27,
   "id": "b0c3c27d-4a00-406a-9576-cae2677940de",
   "metadata": {},
   "outputs": [
    {
     "data": {
      "text/plain": [
       "False"
      ]
     },
     "execution_count": 27,
     "metadata": {},
     "output_type": "execute_result"
    }
   ],
   "source": [
    "not 1"
   ]
  },
  {
   "cell_type": "code",
   "execution_count": 28,
   "id": "4ce1e613-a88e-4b05-a6bf-f35874445e31",
   "metadata": {},
   "outputs": [],
   "source": [
    "## 'and','or',and 'not' these are logical operator"
   ]
  },
  {
   "cell_type": "code",
   "execution_count": 29,
   "id": "fbef7679-08a4-41b5-9a6d-d2d2298d4d94",
   "metadata": {},
   "outputs": [
    {
     "data": {
      "text/plain": [
       "0"
      ]
     },
     "execution_count": 29,
     "metadata": {},
     "output_type": "execute_result"
    }
   ],
   "source": [
    "10 & 4 ## bitwise operator"
   ]
  },
  {
   "cell_type": "code",
   "execution_count": 31,
   "id": "bebe6533-b6d7-4231-b351-5aad9541ffb0",
   "metadata": {},
   "outputs": [
    {
     "data": {
      "text/plain": [
       "'0b1010'"
      ]
     },
     "execution_count": 31,
     "metadata": {},
     "output_type": "execute_result"
    }
   ],
   "source": [
    "bin(10)"
   ]
  },
  {
   "cell_type": "code",
   "execution_count": 32,
   "id": "d86271c3-d6f0-4959-911c-213a0489c827",
   "metadata": {},
   "outputs": [
    {
     "data": {
      "text/plain": [
       "'0b100'"
      ]
     },
     "execution_count": 32,
     "metadata": {},
     "output_type": "execute_result"
    }
   ],
   "source": [
    "bin(4) ## bin function is used to convert a number into binary number"
   ]
  },
  {
   "cell_type": "code",
   "execution_count": 36,
   "id": "2553ec0d-aeff-490b-a9ae-be99102f06e6",
   "metadata": {},
   "outputs": [],
   "source": [
    "### b   b\n",
    "#   i & i\n",
    "#   n   n\n",
    "# (10)  (4)\n",
    "   \n",
    "#   1 & 0 = 0\n",
    "#   0 & 1 = 0\n",
    "#   1 & 0 = 0\n",
    "#   0 & 0 = 0 "
   ]
  },
  {
   "cell_type": "code",
   "execution_count": 37,
   "id": "7d03a95a-f897-406e-8a2b-cfa3d6196d3f",
   "metadata": {},
   "outputs": [
    {
     "data": {
      "text/plain": [
       "'0b0'"
      ]
     },
     "execution_count": 37,
     "metadata": {},
     "output_type": "execute_result"
    }
   ],
   "source": [
    "bin(0)"
   ]
  },
  {
   "cell_type": "code",
   "execution_count": 38,
   "id": "9f678678-92e4-4796-a1d9-d164622dddeb",
   "metadata": {},
   "outputs": [
    {
     "data": {
      "text/plain": [
       "20"
      ]
     },
     "execution_count": 38,
     "metadata": {},
     "output_type": "execute_result"
    }
   ],
   "source": [
    "23 & 20"
   ]
  },
  {
   "cell_type": "code",
   "execution_count": 39,
   "id": "31ddf0b0-ad14-45bb-a77e-4c3ff50eac68",
   "metadata": {},
   "outputs": [
    {
     "data": {
      "text/plain": [
       "'0b10111'"
      ]
     },
     "execution_count": 39,
     "metadata": {},
     "output_type": "execute_result"
    }
   ],
   "source": [
    "bin(23)"
   ]
  },
  {
   "cell_type": "code",
   "execution_count": 40,
   "id": "c3683328-5926-4f69-9aba-2b126c6e1176",
   "metadata": {},
   "outputs": [
    {
     "data": {
      "text/plain": [
       "'0b10100'"
      ]
     },
     "execution_count": 40,
     "metadata": {},
     "output_type": "execute_result"
    }
   ],
   "source": [
    "bin(20)"
   ]
  },
  {
   "cell_type": "code",
   "execution_count": 41,
   "id": "a2ac5167-be21-450c-b7a5-971618f9fea9",
   "metadata": {},
   "outputs": [],
   "source": [
    "##         bin(23) = 1 0 1 1 1\n",
    "#                 &\n",
    "##         bin(20) = 1 0 1 1 1\n",
    "##                 = 1 0 1 1 1"
   ]
  },
  {
   "cell_type": "code",
   "execution_count": 42,
   "id": "7a1ac94c-2863-4f73-8fbc-0553738f507a",
   "metadata": {},
   "outputs": [
    {
     "data": {
      "text/plain": [
       "15"
      ]
     },
     "execution_count": 42,
     "metadata": {},
     "output_type": "execute_result"
    }
   ],
   "source": [
    "11| 6 ## '|' means or "
   ]
  },
  {
   "cell_type": "code",
   "execution_count": 43,
   "id": "f1eb3227-0fc2-445e-8578-850a5d8b16ee",
   "metadata": {},
   "outputs": [
    {
     "data": {
      "text/plain": [
       "'0b1011'"
      ]
     },
     "execution_count": 43,
     "metadata": {},
     "output_type": "execute_result"
    }
   ],
   "source": [
    "bin(11)"
   ]
  },
  {
   "cell_type": "code",
   "execution_count": 44,
   "id": "25cfc3ce-9eb3-4598-8f1c-7b6b717de6b9",
   "metadata": {},
   "outputs": [
    {
     "data": {
      "text/plain": [
       "'0b110'"
      ]
     },
     "execution_count": 44,
     "metadata": {},
     "output_type": "execute_result"
    }
   ],
   "source": [
    "bin(6)"
   ]
  },
  {
   "cell_type": "code",
   "execution_count": 45,
   "id": "edbb5ac7-0742-41dc-b2be-aea6225990f3",
   "metadata": {},
   "outputs": [
    {
     "data": {
      "text/plain": [
       "'0b1111'"
      ]
     },
     "execution_count": 45,
     "metadata": {},
     "output_type": "execute_result"
    }
   ],
   "source": [
    "bin(15)"
   ]
  },
  {
   "cell_type": "code",
   "execution_count": 46,
   "id": "1f1c6e71-7700-4ad3-9284-fafa1ec8c3d8",
   "metadata": {},
   "outputs": [],
   "source": [
    "#   bin(11)    bin(6)\n",
    "#     1          0    = 1\n",
    "#     0   or     1    = 1\n",
    "#     1          1    = 1\n",
    "#     1          0    = 1\n",
    "\n",
    "## ob1111=bin(15)"
   ]
  },
  {
   "cell_type": "code",
   "execution_count": 47,
   "id": "c25c6a4a-438f-4712-96f0-709a5bd480c9",
   "metadata": {},
   "outputs": [
    {
     "data": {
      "text/plain": [
       "-13"
      ]
     },
     "execution_count": 47,
     "metadata": {},
     "output_type": "execute_result"
    }
   ],
   "source": [
    "~12"
   ]
  },
  {
   "cell_type": "code",
   "execution_count": 48,
   "id": "2bb2450b-6743-4bee-8261-52d5accca389",
   "metadata": {},
   "outputs": [
    {
     "data": {
      "text/plain": [
       "'0b1100'"
      ]
     },
     "execution_count": 48,
     "metadata": {},
     "output_type": "execute_result"
    }
   ],
   "source": [
    "bin(12)"
   ]
  },
  {
   "cell_type": "code",
   "execution_count": 49,
   "id": "52c4ac32-e6cd-4c3e-9fef-0014dd457e9f",
   "metadata": {},
   "outputs": [
    {
     "data": {
      "text/plain": [
       "'-0b1101'"
      ]
     },
     "execution_count": 49,
     "metadata": {},
     "output_type": "execute_result"
    }
   ],
   "source": [
    "bin(-13)"
   ]
  },
  {
   "cell_type": "code",
   "execution_count": 51,
   "id": "ff412dbc-d2e1-4941-bcf7-3348dd9b9e5e",
   "metadata": {},
   "outputs": [],
   "source": [
    "## '~' is called as bitwise not\n",
    "## in this case 1 is added  and complet value will become '-' corresponding to that we get the number"
   ]
  },
  {
   "cell_type": "code",
   "execution_count": 52,
   "id": "2c0534ca-2140-4aaa-8deb-dba51160c15a",
   "metadata": {},
   "outputs": [
    {
     "data": {
      "text/plain": [
       "-21"
      ]
     },
     "execution_count": 52,
     "metadata": {},
     "output_type": "execute_result"
    }
   ],
   "source": [
    "~20"
   ]
  },
  {
   "cell_type": "code",
   "execution_count": 53,
   "id": "70b05432-1d1b-46d0-b1d9-add291c81897",
   "metadata": {},
   "outputs": [
    {
     "data": {
      "text/plain": [
       "'0b10100'"
      ]
     },
     "execution_count": 53,
     "metadata": {},
     "output_type": "execute_result"
    }
   ],
   "source": [
    "bin(20)"
   ]
  },
  {
   "cell_type": "code",
   "execution_count": 54,
   "id": "e4d7ac62-9b95-4cb3-9f7c-2344b3354464",
   "metadata": {},
   "outputs": [
    {
     "data": {
      "text/plain": [
       "'-0b10101'"
      ]
     },
     "execution_count": 54,
     "metadata": {},
     "output_type": "execute_result"
    }
   ],
   "source": [
    "bin(-21)"
   ]
  },
  {
   "cell_type": "code",
   "execution_count": 55,
   "id": "a744e984-a5c2-4108-bd2c-c08ae675b9d3",
   "metadata": {},
   "outputs": [],
   "source": [
    "a=8"
   ]
  },
  {
   "cell_type": "code",
   "execution_count": 56,
   "id": "19cf5456-d1ad-4779-a8a9-e37df7d2c0f8",
   "metadata": {},
   "outputs": [
    {
     "data": {
      "text/plain": [
       "2"
      ]
     },
     "execution_count": 56,
     "metadata": {},
     "output_type": "execute_result"
    }
   ],
   "source": [
    "a>>2"
   ]
  },
  {
   "cell_type": "code",
   "execution_count": 57,
   "id": "f8fdcc97-2de8-4978-a9c5-f41e8961c30f",
   "metadata": {},
   "outputs": [
    {
     "data": {
      "text/plain": [
       "'0b1000'"
      ]
     },
     "execution_count": 57,
     "metadata": {},
     "output_type": "execute_result"
    }
   ],
   "source": [
    "bin(a)"
   ]
  },
  {
   "cell_type": "code",
   "execution_count": 58,
   "id": "fa8a71cd-31a3-4b4c-8d7b-f3c714ae4deb",
   "metadata": {},
   "outputs": [
    {
     "data": {
      "text/plain": [
       "'0b10'"
      ]
     },
     "execution_count": 58,
     "metadata": {},
     "output_type": "execute_result"
    }
   ],
   "source": [
    "bin(2)"
   ]
  },
  {
   "cell_type": "code",
   "execution_count": 59,
   "id": "61fe2f53-2112-477a-a285-712413988d30",
   "metadata": {},
   "outputs": [
    {
     "data": {
      "text/plain": [
       "1"
      ]
     },
     "execution_count": 59,
     "metadata": {},
     "output_type": "execute_result"
    }
   ],
   "source": [
    "a>>3"
   ]
  },
  {
   "cell_type": "code",
   "execution_count": 60,
   "id": "31d29514-af96-4902-86f6-075278685c33",
   "metadata": {},
   "outputs": [
    {
     "data": {
      "text/plain": [
       "'0b1'"
      ]
     },
     "execution_count": 60,
     "metadata": {},
     "output_type": "execute_result"
    }
   ],
   "source": [
    "bin(1)"
   ]
  },
  {
   "cell_type": "code",
   "execution_count": 61,
   "id": "a9e01f66-fbdd-4cd6-b959-421b2dfbcf85",
   "metadata": {},
   "outputs": [
    {
     "data": {
      "text/plain": [
       "4"
      ]
     },
     "execution_count": 61,
     "metadata": {},
     "output_type": "execute_result"
    }
   ],
   "source": [
    "a>>1"
   ]
  },
  {
   "cell_type": "code",
   "execution_count": 62,
   "id": "937a00b5-c762-4a2f-9742-0744c43b1ffb",
   "metadata": {},
   "outputs": [
    {
     "data": {
      "text/plain": [
       "'0b100'"
      ]
     },
     "execution_count": 62,
     "metadata": {},
     "output_type": "execute_result"
    }
   ],
   "source": [
    "bin(4) ##'>>' right shift operator"
   ]
  },
  {
   "cell_type": "code",
   "execution_count": 63,
   "id": "4dd8b80d-40c0-46a5-a4a4-7f6f14818c0c",
   "metadata": {},
   "outputs": [],
   "source": [
    "b=20"
   ]
  },
  {
   "cell_type": "code",
   "execution_count": 64,
   "id": "76be8642-d228-4c35-92c9-c0ca9194a9af",
   "metadata": {},
   "outputs": [
    {
     "data": {
      "text/plain": [
       "40"
      ]
     },
     "execution_count": 64,
     "metadata": {},
     "output_type": "execute_result"
    }
   ],
   "source": [
    "b<<1"
   ]
  },
  {
   "cell_type": "code",
   "execution_count": 65,
   "id": "0b823b88-25ff-4c20-8e6a-a07d24a7507f",
   "metadata": {},
   "outputs": [
    {
     "data": {
      "text/plain": [
       "'0b10100'"
      ]
     },
     "execution_count": 65,
     "metadata": {},
     "output_type": "execute_result"
    }
   ],
   "source": [
    "bin(20)"
   ]
  },
  {
   "cell_type": "code",
   "execution_count": 66,
   "id": "83de9423-11a8-4136-b346-72622f8d5d5e",
   "metadata": {},
   "outputs": [
    {
     "data": {
      "text/plain": [
       "'0b101000'"
      ]
     },
     "execution_count": 66,
     "metadata": {},
     "output_type": "execute_result"
    }
   ],
   "source": [
    "bin(40)"
   ]
  },
  {
   "cell_type": "code",
   "execution_count": 67,
   "id": "c4583e04-a794-4f11-9a8c-ed1a44d07f8c",
   "metadata": {},
   "outputs": [
    {
     "data": {
      "text/plain": [
       "80"
      ]
     },
     "execution_count": 67,
     "metadata": {},
     "output_type": "execute_result"
    }
   ],
   "source": [
    "b<<2 ##'<<' left shift operator"
   ]
  },
  {
   "cell_type": "code",
   "execution_count": 76,
   "id": "cf015b90-3c82-4028-b6b8-1d571a3d4669",
   "metadata": {},
   "outputs": [
    {
     "data": {
      "text/plain": [
       "'0b1010000'"
      ]
     },
     "execution_count": 76,
     "metadata": {},
     "output_type": "execute_result"
    }
   ],
   "source": [
    "bin(80)"
   ]
  },
  {
   "cell_type": "code",
   "execution_count": 77,
   "id": "6a69d27f-b363-4f2d-9074-02385da5b806",
   "metadata": {},
   "outputs": [],
   "source": [
    "f=300"
   ]
  },
  {
   "cell_type": "code",
   "execution_count": 78,
   "id": "7344a988-14bf-467a-8a67-48ec561f15b7",
   "metadata": {},
   "outputs": [],
   "source": [
    "f+=200 ## f=f+200"
   ]
  },
  {
   "cell_type": "code",
   "execution_count": 79,
   "id": "38f9a112-cd2a-44bc-82f0-c65ccb61fb3d",
   "metadata": {},
   "outputs": [
    {
     "data": {
      "text/plain": [
       "500"
      ]
     },
     "execution_count": 79,
     "metadata": {},
     "output_type": "execute_result"
    }
   ],
   "source": [
    "f"
   ]
  },
  {
   "cell_type": "code",
   "execution_count": 80,
   "id": "ae39f94f-4916-44a0-ad95-471590c3b6fb",
   "metadata": {},
   "outputs": [],
   "source": [
    "f*=2 ## f=f*2"
   ]
  },
  {
   "cell_type": "code",
   "execution_count": 81,
   "id": "350c5079-6c17-4eb2-b53e-fbaab221002e",
   "metadata": {},
   "outputs": [
    {
     "data": {
      "text/plain": [
       "1000"
      ]
     },
     "execution_count": 81,
     "metadata": {},
     "output_type": "execute_result"
    }
   ],
   "source": [
    "f"
   ]
  },
  {
   "cell_type": "code",
   "execution_count": null,
   "id": "f2d65ddf-4fa8-423d-b7e3-5d2e8355a6fb",
   "metadata": {},
   "outputs": [],
   "source": []
  }
 ],
 "metadata": {
  "kernelspec": {
   "display_name": "Python 3 (ipykernel)",
   "language": "python",
   "name": "python3"
  },
  "language_info": {
   "codemirror_mode": {
    "name": "ipython",
    "version": 3
   },
   "file_extension": ".py",
   "mimetype": "text/x-python",
   "name": "python",
   "nbconvert_exporter": "python",
   "pygments_lexer": "ipython3",
   "version": "3.10.8"
  }
 },
 "nbformat": 4,
 "nbformat_minor": 5
}
